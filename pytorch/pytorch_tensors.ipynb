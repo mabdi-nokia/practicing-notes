{
  "nbformat": 4,
  "nbformat_minor": 0,
  "metadata": {
    "colab": {
      "provenance": [],
      "gpuType": "T4"
    },
    "kernelspec": {
      "name": "python3",
      "display_name": "Python 3"
    },
    "language_info": {
      "name": "python"
    }
  },
  "cells": [
    {
      "cell_type": "code",
      "execution_count": 4,
      "metadata": {
        "colab": {
          "base_uri": "https://localhost:8080/"
        },
        "id": "-GvRRAd_PbxX",
        "outputId": "d86f6ec3-3666-404b-80f2-732873c2aa97"
      },
      "outputs": [
        {
          "output_type": "stream",
          "name": "stdout",
          "text": [
            "Requirement already satisfied: torch in /usr/local/lib/python3.11/dist-packages (2.5.1+cu124)\n",
            "Requirement already satisfied: filelock in /usr/local/lib/python3.11/dist-packages (from torch) (3.17.0)\n",
            "Requirement already satisfied: typing-extensions>=4.8.0 in /usr/local/lib/python3.11/dist-packages (from torch) (4.12.2)\n",
            "Requirement already satisfied: networkx in /usr/local/lib/python3.11/dist-packages (from torch) (3.4.2)\n",
            "Requirement already satisfied: jinja2 in /usr/local/lib/python3.11/dist-packages (from torch) (3.1.5)\n",
            "Requirement already satisfied: fsspec in /usr/local/lib/python3.11/dist-packages (from torch) (2024.10.0)\n",
            "Requirement already satisfied: nvidia-cuda-nvrtc-cu12==12.4.127 in /usr/local/lib/python3.11/dist-packages (from torch) (12.4.127)\n",
            "Requirement already satisfied: nvidia-cuda-runtime-cu12==12.4.127 in /usr/local/lib/python3.11/dist-packages (from torch) (12.4.127)\n",
            "Requirement already satisfied: nvidia-cuda-cupti-cu12==12.4.127 in /usr/local/lib/python3.11/dist-packages (from torch) (12.4.127)\n",
            "Requirement already satisfied: nvidia-cudnn-cu12==9.1.0.70 in /usr/local/lib/python3.11/dist-packages (from torch) (9.1.0.70)\n",
            "Requirement already satisfied: nvidia-cublas-cu12==12.4.5.8 in /usr/local/lib/python3.11/dist-packages (from torch) (12.4.5.8)\n",
            "Requirement already satisfied: nvidia-cufft-cu12==11.2.1.3 in /usr/local/lib/python3.11/dist-packages (from torch) (11.2.1.3)\n",
            "Requirement already satisfied: nvidia-curand-cu12==10.3.5.147 in /usr/local/lib/python3.11/dist-packages (from torch) (10.3.5.147)\n",
            "Requirement already satisfied: nvidia-cusolver-cu12==11.6.1.9 in /usr/local/lib/python3.11/dist-packages (from torch) (11.6.1.9)\n",
            "Requirement already satisfied: nvidia-cusparse-cu12==12.3.1.170 in /usr/local/lib/python3.11/dist-packages (from torch) (12.3.1.170)\n",
            "Requirement already satisfied: nvidia-nccl-cu12==2.21.5 in /usr/local/lib/python3.11/dist-packages (from torch) (2.21.5)\n",
            "Requirement already satisfied: nvidia-nvtx-cu12==12.4.127 in /usr/local/lib/python3.11/dist-packages (from torch) (12.4.127)\n",
            "Requirement already satisfied: nvidia-nvjitlink-cu12==12.4.127 in /usr/local/lib/python3.11/dist-packages (from torch) (12.4.127)\n",
            "Requirement already satisfied: triton==3.1.0 in /usr/local/lib/python3.11/dist-packages (from torch) (3.1.0)\n",
            "Requirement already satisfied: sympy==1.13.1 in /usr/local/lib/python3.11/dist-packages (from torch) (1.13.1)\n",
            "Requirement already satisfied: mpmath<1.4,>=1.1.0 in /usr/local/lib/python3.11/dist-packages (from sympy==1.13.1->torch) (1.3.0)\n",
            "Requirement already satisfied: MarkupSafe>=2.0 in /usr/local/lib/python3.11/dist-packages (from jinja2->torch) (3.0.2)\n"
          ]
        }
      ],
      "source": [
        "!pip install torch"
      ]
    },
    {
      "cell_type": "code",
      "source": [
        "import torch\n"
      ],
      "metadata": {
        "id": "sEFYaPITP1aH"
      },
      "execution_count": 5,
      "outputs": []
    },
    {
      "cell_type": "markdown",
      "source": [
        "#1. Creating and Inspecting Tensors:\n",
        "\n",
        "Exercise: Create a 3x4 tensor filled with random numbers between 0 and 1. Print the tensor's shape, data type, and number of dimensions.\n"
      ],
      "metadata": {
        "id": "BmTgDw7iPqk_"
      }
    },
    {
      "cell_type": "code",
      "source": [
        "t1 = torch.rand(3,4)\n",
        "print(t1.shape)\n",
        "print(t1.dtype)\n",
        "print(t1.ndim)"
      ],
      "metadata": {
        "colab": {
          "base_uri": "https://localhost:8080/"
        },
        "id": "ltvN_lcvPz_N",
        "outputId": "bd3697a9-3c18-4b43-e568-6f626b6029f1"
      },
      "execution_count": 6,
      "outputs": [
        {
          "output_type": "stream",
          "name": "stdout",
          "text": [
            "torch.Size([3, 4])\n",
            "torch.float32\n",
            "2\n"
          ]
        }
      ]
    },
    {
      "cell_type": "markdown",
      "source": [
        "#2. Tensor Arithmetic:\n",
        "\n",
        "Exercise: Create two tensors, tensor1 (2x3) and tensor2 (2x3), with random integer values. Perform element-wise addition, subtraction, multiplication, and division.\n"
      ],
      "metadata": {
        "id": "Vf5W6tJAQiTq"
      }
    },
    {
      "cell_type": "code",
      "source": [
        "t2 = torch.rand(2,3)\n",
        "t3 = torch.rand(2,3)\n",
        "\n",
        "t4 = t2+t3\n",
        "t5 = t2-t3\n",
        "t6 = t2*t3\n",
        "t7 = t2/t3\n",
        "\n",
        "print(t2)\n",
        "print(t3)\n",
        "print(t4)\n",
        "print(t5)\n",
        "print(t6)\n",
        "print(t7)"
      ],
      "metadata": {
        "colab": {
          "base_uri": "https://localhost:8080/"
        },
        "id": "lwHmGKxCQmHB",
        "outputId": "a3da629f-c284-43f9-d852-6f9676bf6b09"
      },
      "execution_count": 7,
      "outputs": [
        {
          "output_type": "stream",
          "name": "stdout",
          "text": [
            "tensor([[0.8108, 0.5370, 0.1825],\n",
            "        [0.8704, 0.5078, 0.9609]])\n",
            "tensor([[0.9230, 0.4767, 0.7330],\n",
            "        [0.0879, 0.4429, 0.5567]])\n",
            "tensor([[1.7338, 1.0137, 0.9154],\n",
            "        [0.9583, 0.9507, 1.5176]])\n",
            "tensor([[-0.1123,  0.0604, -0.5505],\n",
            "        [ 0.7825,  0.0649,  0.4042]])\n",
            "tensor([[0.7484, 0.2560, 0.1337],\n",
            "        [0.0765, 0.2249, 0.5349]])\n",
            "tensor([[0.8784, 1.1267, 0.2490],\n",
            "        [9.9018, 1.1464, 1.7261]])\n"
          ]
        }
      ]
    },
    {
      "cell_type": "markdown",
      "source": [
        "# 3. Reshaping Tensors:\n",
        "\n",
        "Exercise: Create a tensor with values from 1 to 12. Reshape it into a 2x6 tensor and then into a 3x4 tensor.\n"
      ],
      "metadata": {
        "id": "mmCJsU27RgP4"
      }
    },
    {
      "cell_type": "code",
      "source": [
        "t8 = torch.arange(1,13)\n",
        "print(t8)\n",
        "print(t8.reshape(2,6))\n",
        "print(t8.reshape(3,4).reshape(1,12))"
      ],
      "metadata": {
        "colab": {
          "base_uri": "https://localhost:8080/"
        },
        "id": "pTAjwQmrRkDO",
        "outputId": "4d74f87f-b5fc-4cf1-e339-f87ce638de8b"
      },
      "execution_count": 8,
      "outputs": [
        {
          "output_type": "stream",
          "name": "stdout",
          "text": [
            "tensor([ 1,  2,  3,  4,  5,  6,  7,  8,  9, 10, 11, 12])\n",
            "tensor([[ 1,  2,  3,  4,  5,  6],\n",
            "        [ 7,  8,  9, 10, 11, 12]])\n",
            "tensor([[ 1,  2,  3,  4,  5,  6,  7,  8,  9, 10, 11, 12]])\n"
          ]
        }
      ]
    },
    {
      "cell_type": "markdown",
      "source": [
        "# 4. Indexing and Slicing:\n",
        "\n",
        "Exercise: Create a 5x5 tensor. Extract the following:\n",
        "- The first row.\n",
        "- The last column.\n",
        "- A 3x3 sub-tensor from the center.\n"
      ],
      "metadata": {
        "id": "SdShHJ__TDFv"
      }
    },
    {
      "cell_type": "code",
      "source": [
        "t9 = torch.rand(5,5)\n",
        "print(t9)\n",
        "\n",
        "print(t9[0,:])\n",
        "print(t9[:,-1])\n",
        "print(t9[1:4,1:4])\n"
      ],
      "metadata": {
        "colab": {
          "base_uri": "https://localhost:8080/"
        },
        "id": "VcipnTekTHG1",
        "outputId": "edaf338e-10cc-4cc6-e4b6-6cc5c75f235a"
      },
      "execution_count": 9,
      "outputs": [
        {
          "output_type": "stream",
          "name": "stdout",
          "text": [
            "tensor([[0.6396, 0.7929, 0.1601, 0.7454, 0.9643],\n",
            "        [0.5865, 0.0389, 0.9075, 0.6910, 0.8403],\n",
            "        [0.3537, 0.7433, 0.9129, 0.8939, 0.8104],\n",
            "        [0.9563, 0.5130, 0.7822, 0.3534, 0.6244],\n",
            "        [0.7806, 0.6704, 0.9532, 0.9882, 0.3402]])\n",
            "tensor([0.6396, 0.7929, 0.1601, 0.7454, 0.9643])\n",
            "tensor([0.9643, 0.8403, 0.8104, 0.6244, 0.3402])\n",
            "tensor([[0.0389, 0.9075, 0.6910],\n",
            "        [0.7433, 0.9129, 0.8939],\n",
            "        [0.5130, 0.7822, 0.3534]])\n"
          ]
        }
      ]
    },
    {
      "cell_type": "markdown",
      "source": [
        "# 5. Tensor Operations (Mean, Sum, Max, Min):\n",
        "\n",
        "Exercise: Create a 4x4 tensor with random floating-point numbers. Calculate the mean, sum, maximum, and minimum values of the entire tensor and along each row and column.\n"
      ],
      "metadata": {
        "id": "QFMtf1W8XL-3"
      }
    },
    {
      "cell_type": "code",
      "source": [
        "t10 = torch.rand(4,4)\n",
        "print(t10)\n",
        "print(t10.mean(), t10.sum(), t10.max(), t10.min())\n",
        "print(t10.mean(dim=0, keepdim=True), t10.sum(dim=0), t10.max(dim=0), t10.min(dim=0))\n",
        "print(t10.mean(dim=1,keepdim=True), t10.sum(dim=1), t10.max(dim=1), t10.min(dim=1))"
      ],
      "metadata": {
        "colab": {
          "base_uri": "https://localhost:8080/"
        },
        "id": "OQ3EaAf7UvSA",
        "outputId": "c70b7f2f-bc46-4c50-d3dc-c2812c534821"
      },
      "execution_count": 10,
      "outputs": [
        {
          "output_type": "stream",
          "name": "stdout",
          "text": [
            "tensor([[0.9386, 0.4810, 0.6171, 0.5383],\n",
            "        [0.9651, 0.0387, 0.6567, 0.1572],\n",
            "        [0.0098, 0.8267, 0.9518, 0.2737],\n",
            "        [0.5252, 0.5558, 0.7522, 0.0610]])\n",
            "tensor(0.5218) tensor(8.3490) tensor(0.9651) tensor(0.0098)\n",
            "tensor([[0.6097, 0.4756, 0.7445, 0.2575]]) tensor([2.4388, 1.9022, 2.9778, 1.0302]) torch.return_types.max(\n",
            "values=tensor([0.9651, 0.8267, 0.9518, 0.5383]),\n",
            "indices=tensor([1, 2, 2, 0])) torch.return_types.min(\n",
            "values=tensor([0.0098, 0.0387, 0.6171, 0.0610]),\n",
            "indices=tensor([2, 1, 0, 3]))\n",
            "tensor([[0.6438],\n",
            "        [0.4544],\n",
            "        [0.5155],\n",
            "        [0.4736]]) tensor([2.5751, 1.8176, 2.0621, 1.8943]) torch.return_types.max(\n",
            "values=tensor([0.9386, 0.9651, 0.9518, 0.7522]),\n",
            "indices=tensor([0, 0, 2, 2])) torch.return_types.min(\n",
            "values=tensor([0.4810, 0.0387, 0.0098, 0.0610]),\n",
            "indices=tensor([1, 1, 0, 3]))\n"
          ]
        }
      ]
    },
    {
      "cell_type": "markdown",
      "source": [
        "# 6. Tensor Concatenation and Stacking:\n",
        "\n",
        "Exercise: Create two tensors, tensorA (3x2) and tensorB (3x2). Concatenate them horizontally and vertically. Then, stack them to create a new tensor with an extra dimension.\n"
      ],
      "metadata": {
        "id": "_QOhKPv_XPej"
      }
    },
    {
      "cell_type": "code",
      "source": [
        "tensorA = torch.ones(3,2)\n",
        "tensorB = torch.zeros(3,2)\n",
        "\n",
        "print(torch.cat((tensorA, tensorB), dim=0))\n",
        "print(torch.cat((tensorA, tensorB), dim=1))\n",
        "print(torch.stack((tensorA, tensorB), dim=0))\n",
        "print(torch.stack((tensorA, tensorB), dim=1))\n",
        "print(torch.stack((tensorA, tensorB), dim=2))"
      ],
      "metadata": {
        "colab": {
          "base_uri": "https://localhost:8080/"
        },
        "id": "cl-d_KWiXOCT",
        "outputId": "70fc9887-e9cb-47c7-95ca-83e63f690e56"
      },
      "execution_count": 11,
      "outputs": [
        {
          "output_type": "stream",
          "name": "stdout",
          "text": [
            "tensor([[1., 1.],\n",
            "        [1., 1.],\n",
            "        [1., 1.],\n",
            "        [0., 0.],\n",
            "        [0., 0.],\n",
            "        [0., 0.]])\n",
            "tensor([[1., 1., 0., 0.],\n",
            "        [1., 1., 0., 0.],\n",
            "        [1., 1., 0., 0.]])\n",
            "tensor([[[1., 1.],\n",
            "         [1., 1.],\n",
            "         [1., 1.]],\n",
            "\n",
            "        [[0., 0.],\n",
            "         [0., 0.],\n",
            "         [0., 0.]]])\n",
            "tensor([[[1., 1.],\n",
            "         [0., 0.]],\n",
            "\n",
            "        [[1., 1.],\n",
            "         [0., 0.]],\n",
            "\n",
            "        [[1., 1.],\n",
            "         [0., 0.]]])\n",
            "tensor([[[1., 0.],\n",
            "         [1., 0.]],\n",
            "\n",
            "        [[1., 0.],\n",
            "         [1., 0.]],\n",
            "\n",
            "        [[1., 0.],\n",
            "         [1., 0.]]])\n"
          ]
        }
      ]
    },
    {
      "cell_type": "markdown",
      "source": [
        "# 7. Tensor Element-wise Functions:\n",
        "\n",
        "Exercise: Create a tensor with random values. Apply the following element-wise functions:\n",
        "Square root.\n",
        "Exponential.\n",
        "Logarithm (handle potential zero values).\n"
      ],
      "metadata": {
        "id": "1ZT2zvwGabWh"
      }
    },
    {
      "cell_type": "code",
      "source": [
        "t11 = torch.randn(3,2)\n",
        "\n",
        "print(t11)\n",
        "print(torch.sqrt(t11.abs()))\n",
        "print(torch.exp(t11))\n",
        "print(torch.log(t11.abs() + 1e-6))"
      ],
      "metadata": {
        "colab": {
          "base_uri": "https://localhost:8080/"
        },
        "id": "CDh2WfoAabtd",
        "outputId": "3244927b-bd04-4246-d7ca-e84c4c0b0fd4"
      },
      "execution_count": 12,
      "outputs": [
        {
          "output_type": "stream",
          "name": "stdout",
          "text": [
            "tensor([[-0.4617, -1.0000],\n",
            "        [-0.3669,  1.2459],\n",
            "        [-1.4756, -0.0345]])\n",
            "tensor([[0.6795, 1.0000],\n",
            "        [0.6058, 1.1162],\n",
            "        [1.2148, 0.1857]])\n",
            "tensor([[0.6302, 0.3679],\n",
            "        [0.6928, 3.4762],\n",
            "        [0.2286, 0.9661]])\n",
            "tensor([[-7.7288e-01, -4.5122e-05],\n",
            "        [-1.0025e+00,  2.1990e-01],\n",
            "        [ 3.8908e-01, -3.3677e+00]])\n"
          ]
        }
      ]
    },
    {
      "cell_type": "markdown",
      "source": [
        "# 8. Broadcasting:\n",
        "\n",
        "Exercise: Create a tensor tensor1 (4x3) and a tensor tensor2 (1x3). Add tensor2 to tensor1 using broadcasting.\n"
      ],
      "metadata": {
        "id": "S6fWD5w4c-dP"
      }
    },
    {
      "cell_type": "code",
      "source": [
        "tensor1 = torch.randn(4,3)\n",
        "tensor2 = torch.randn(1,3)\n",
        "\n",
        "print(tensor1)\n",
        "print(tensor2)\n",
        "print(tensor1 * tensor2)"
      ],
      "metadata": {
        "id": "JFo7C15Ac-xz",
        "colab": {
          "base_uri": "https://localhost:8080/"
        },
        "outputId": "1d24cbb6-3a63-4eef-c9b9-ae57063eb0c0"
      },
      "execution_count": 15,
      "outputs": [
        {
          "output_type": "stream",
          "name": "stdout",
          "text": [
            "tensor([[-0.7045,  1.0054, -0.1072],\n",
            "        [ 0.8412, -0.6533, -0.8509],\n",
            "        [ 0.0936, -0.2740,  0.2283],\n",
            "        [ 0.1660, -0.3945, -2.4175]])\n",
            "tensor([[0.2175, 0.7945, 0.2764]])\n",
            "tensor([[-0.1533,  0.7987, -0.0296],\n",
            "        [ 0.1830, -0.5190, -0.2351],\n",
            "        [ 0.0204, -0.2177,  0.0631],\n",
            "        [ 0.0361, -0.3134, -0.6681]])\n"
          ]
        }
      ]
    },
    {
      "cell_type": "markdown",
      "source": [
        "# 9. Matrix Multiplication:\n",
        "\n",
        "Exercise: Create two tensors, matrixA (3x4) and matrixB (4x2). Perform matrix multiplication.\n"
      ],
      "metadata": {
        "id": "yoVT4cYvkAPB"
      }
    },
    {
      "cell_type": "code",
      "source": [
        "matrixA = torch.randn(3,4)\n",
        "matrixB = torch.randn(4,2)\n",
        "\n",
        "print(matrixA)\n",
        "print(matrixB)\n",
        "print(torch.matmul(matrixA, matrixB))"
      ],
      "metadata": {
        "colab": {
          "base_uri": "https://localhost:8080/"
        },
        "id": "gAsLpRFGgpxj",
        "outputId": "0f3bf07b-36f7-4bc5-fdc2-2aa3f669d013"
      },
      "execution_count": 16,
      "outputs": [
        {
          "output_type": "stream",
          "name": "stdout",
          "text": [
            "tensor([[-1.4779,  0.0667, -1.3074,  0.0763],\n",
            "        [ 1.0411, -0.4321, -0.4063, -0.5638],\n",
            "        [-0.7029, -0.0195, -1.1644,  0.6317]])\n",
            "tensor([[-0.8047, -1.9764],\n",
            "        [ 0.0327,  0.9788],\n",
            "        [-0.5125,  0.1242],\n",
            "        [-1.2803, -0.9414]])\n",
            "tensor([[ 1.7638,  2.7519],\n",
            "        [ 0.0781, -2.0004],\n",
            "        [ 0.3530,  0.6308]])\n"
          ]
        }
      ]
    },
    {
      "cell_type": "markdown",
      "source": [
        "# 10. Moving Tensors to GPU (if available):\n",
        "\n",
        "Exercise: Create a tensor. Check if a GPU is available. If so, move the tensor to the GPU and perform a simple operation.\n"
      ],
      "metadata": {
        "id": "E0KyA1RzkKzK"
      }
    },
    {
      "cell_type": "code",
      "source": [
        "t= torch.randn(6,6)\n",
        "device = torch.device(\"cuda\") if torch.cuda.is_available() else torch.device(\"cpu\")\n",
        "\n",
        "print(device)\n",
        "\n",
        "t.to(device)\n",
        "t = t @ t\n",
        "t.to(\"cpu\")"
      ],
      "metadata": {
        "colab": {
          "base_uri": "https://localhost:8080/"
        },
        "id": "xKPZ51WqkJSO",
        "outputId": "a5d55efb-e5de-4606-a345-a780a38094a4"
      },
      "execution_count": 22,
      "outputs": [
        {
          "output_type": "stream",
          "name": "stdout",
          "text": [
            "cpu\n"
          ]
        },
        {
          "output_type": "execute_result",
          "data": {
            "text/plain": [
              "tensor([[ 8.1868, -1.2659, -1.1481,  6.2833, -1.3808, -0.0877],\n",
              "        [ 0.1051,  2.0825, -2.0111,  2.2905, -0.5134,  0.3203],\n",
              "        [-0.7450, -0.9693,  2.8140, -3.6114,  0.1160, -0.2192],\n",
              "        [ 2.6072, -1.7601,  0.1642,  1.6606,  1.2919,  2.1640],\n",
              "        [ 2.6833,  0.9197, -1.1067,  2.9091,  0.4016,  2.1208],\n",
              "        [-0.0089,  0.2350, -0.5641,  0.0665,  1.4480,  2.8761]])"
            ]
          },
          "metadata": {},
          "execution_count": 22
        }
      ]
    }
  ]
}